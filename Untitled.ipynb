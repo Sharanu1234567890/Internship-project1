{
 "cells": [
  {
   "cell_type": "code",
   "execution_count": 2,
   "id": "29671577-3a5f-4686-a87d-c73a393071d8",
   "metadata": {},
   "outputs": [
    {
     "name": "stdout",
     "output_type": "stream",
     "text": [
      "Missing values:\n",
      " PatientId         0\n",
      "AppointmentID     0\n",
      "Gender            0\n",
      "ScheduledDay      0\n",
      "AppointmentDay    0\n",
      "Age               0\n",
      "Neighbourhood     0\n",
      "Scholarship       0\n",
      "Hipertension      0\n",
      "Diabetes          0\n",
      "Alcoholism        0\n",
      "Handcap           0\n",
      "SMS_received      0\n",
      "No-show           0\n",
      "dtype: int64\n",
      "Data types after cleaning:\n",
      " patientid         float64\n",
      "appointmentid       int64\n",
      "gender             object\n",
      "scheduledday       object\n",
      "appointmentday     object\n",
      "age                 int64\n",
      "neighbourhood      object\n",
      "scholarship         int64\n",
      "hipertension        int64\n",
      "diabetes            int64\n",
      "alcoholism          int64\n",
      "handcap             int64\n",
      "sms_received        int64\n",
      "no_show            object\n",
      "dtype: object\n"
     ]
    }
   ],
   "source": [
    "import pandas as pd\n",
    "\n",
    "# Load the dataset\n",
    "df = pd.read_csv(\"KaggleV2-May-2016.csv\")\n",
    "\n",
    "print(\"Missing values:\\n\", df.isnull().sum())\n",
    "\n",
    "df = df.drop_duplicates()\n",
    "\n",
    "df['Gender'] = df['Gender'].str.upper().str.strip()\n",
    "df['No-show'] = df['No-show'].str.capitalize().str.strip()\n",
    "df['Neighbourhood'] = df['Neighbourhood'].str.title().str.strip()\n",
    "\n",
    "df['ScheduledDay'] = pd.to_datetime(df['ScheduledDay']).dt.strftime('%d-%m-%Y')\n",
    "df['AppointmentDay'] = pd.to_datetime(df['AppointmentDay']).dt.strftime('%d-%m-%Y')\n",
    "\n",
    "df.columns = df.columns.str.strip().str.lower().str.replace('-', '_').str.replace(' ', '_')\n",
    "\n",
    "print(\"Data types after cleaning:\\n\", df.dtypes)\n",
    "\n",
    "df.to_csv(\"KaggleV2_Cleaned.csv\", index=False)\n"
   ]
  }
 ],
 "metadata": {
  "kernelspec": {
   "display_name": "Python 3 (ipykernel)",
   "language": "python",
   "name": "python3"
  },
  "language_info": {
   "codemirror_mode": {
    "name": "ipython",
    "version": 3
   },
   "file_extension": ".py",
   "mimetype": "text/x-python",
   "name": "python",
   "nbconvert_exporter": "python",
   "pygments_lexer": "ipython3",
   "version": "3.13.2"
  }
 },
 "nbformat": 4,
 "nbformat_minor": 5
}
